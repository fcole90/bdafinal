{
 "cells": [
  {
   "cell_type": "markdown",
   "metadata": {},
   "source": [
    "## Analysis problem\n",
    "The dataset that we want to analyze in this project is about number of deaths for viral hepatitis and sequelae of viral hepatitis in 25 European countries. Our dataset is divided into two files:\n",
    " - one contains the total amount of deaths for all causes of death from 2001 to 2010\n",
    " - the other contains the number of deaths for viral hepatitis and sequelae of viral hepatitis from 2001 to 2010\n",
    "\n",
    "The data in the first file will be used as normalization factor for the number of deaths for viral hepatitis. Therefore, the data that will be analyzed is the ratio of deaths for viral hepatitis over the total number of deaths in that country.\n",
    "Our objective for this analysis is to predict for each country the number of deaths for viral hepatitis in the following years. We decided not to make any prediction for a country outside the list because, even if there could be a hyperdistribution which the parameters of our models could follow, we considered that there could be too many differences among the countries which would make such a prediction unreliable."
   ]
  },
  {
   "cell_type": "markdown",
   "metadata": {},
   "source": [
    "## Model description\n",
    "As first choice we will assess the use of a Separate model. We will consider each country as a separate group, and so we will have a distribution that describe each of them independently. \n",
    "\n",
    "![Separate Model](./separate.png)\n",
    "\n",
    "We will also evaluate a Hierarchial model, in order to verify that our initial assumption about the independece of the distribution of each country is correct. In other words, we expect that the hierarchial model will perform worse than the Separate model, which is our first choice.\n",
    "\n",
    "![Hierarchial Model](./hierarchial.png)"
   ]
  },
  {
   "cell_type": "markdown",
   "metadata": {},
   "source": [
    "## Prior choices\n",
    "Our prior hypothesis are the followings:\n",
    " - We assume that the data for each group is Binomially distributed $y_{ij}\\mid\\theta_j \\sim Bin(n_j, \\theta_j)$\n",
    " - as prior distribution we will use an uninformative flat prior $\\theta_j \\sim \\mathcal{U}([0,1])=Beta(1,1)$\n",
    "\n",
    "Using a Beta as prior we have a conjugate prior, hence we have as posterior again a Beta distribution defined as follows: \n",
    "$$\\theta_j\\mid y_{ij} \\sim Beta(y_{ij}+1, n_j-y_{ij}+1)$$\n",
    "where $n_j$ is the number of elements in the j-th group.\n"
   ]
  },
  {
   "cell_type": "code",
   "execution_count": null,
   "metadata": {
    "collapsed": true
   },
   "outputs": [],
   "source": []
  }
 ],
 "metadata": {
  "kernelspec": {
   "display_name": "Python 3",
   "language": "python",
   "name": "python3"
  },
  "language_info": {
   "codemirror_mode": {
    "name": "ipython",
    "version": 3
   },
   "file_extension": ".py",
   "mimetype": "text/x-python",
   "name": "python",
   "nbconvert_exporter": "python",
   "pygments_lexer": "ipython3",
   "version": "3.6.3"
  }
 },
 "nbformat": 4,
 "nbformat_minor": 2
}
